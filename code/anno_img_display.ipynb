{
 "cells": [
  {
   "cell_type": "markdown",
   "metadata": {},
   "source": [
    "# アノテータのアノテーションを表示"
   ]
  },
  {
   "cell_type": "code",
   "execution_count": 2,
   "metadata": {},
   "outputs": [
    {
     "name": "stdout",
     "output_type": "stream",
     "text": [
      "{'regions': [{'region_id': 1, 'boxes': [998.0, 202.0, 693.0, 739.0], 'image_id': 1, 'ori_Danger_item': '', 'object': '四輪車', 'Danger_item': '[0, 0, 0, 0, 0, 0, 0, 0, 0, 0, 1, 1, 0, 0, 0, 0, 0]'}, {'region_id': 2, 'boxes': [439.0, 370.0, 472.0, 477.0], 'image_id': 1, 'ori_Danger_item': '', 'object': '歩行者', 'Danger_item': '[0, 0, 0, 0, 0, 0, 0, 0, 0, 0, 1, 1, 0, 0, 0, 0, 1]'}, {'region_id': 3, 'boxes': [393.0, 370.0, 430.0, 469.0], 'image_id': 1, 'ori_Danger_item': '', 'object': '歩行者', 'Danger_item': '[0, 0, 0, 0, 0, 0, 0, 0, 0, 0, 1, 0, 0, 0, 0, 0, 0]'}], 'id': 1}\n",
      "809\n"
     ]
    }
   ],
   "source": [
    "#データセット表示\n",
    "import json\n",
    "import cv2\n",
    "import os\n",
    "\n",
    "if os.path.isdir(\"./dataset/annotation_dis\") == False:\n",
    "    os.mkdir(\"./dataset/annotation_dis\")\n",
    "\n",
    "def convert_to_corners(coord1, coord2):\n",
    "    # 与えられた2つの座標を左上と右下に変換する処理\n",
    "    x1, y1 = coord1\n",
    "    x2, y2 = coord2\n",
    "    \n",
    "    left = min(x1, x2)\n",
    "    top = min(y1, y2)\n",
    "    right = max(x1, x2)\n",
    "    bottom = max(y1, y2)\n",
    "    \n",
    "    return [left, top, right, bottom]\n",
    "\n",
    "edit_detect_data_open = open(\"./dataset/annotation_data/anno_id1_region_danger_info_data.json\", 'r')#対象のあのテータを選択\n",
    "edit_detect_data_load = json.load(edit_detect_data_open)\n",
    "print(edit_detect_data_load[0])\n",
    "print(len(edit_detect_data_load))\n",
    "font = cv2.FONT_HERSHEY_SIMPLEX\n",
    "image_path = \"./dataset/drama_image\"\n",
    "\n",
    "for i, one_image_data in enumerate(edit_detect_data_load):\n",
    "\n",
    "    for d, one_box_data in enumerate(one_image_data[\"regions\"]):\n",
    "        x1y1 = [one_box_data[\"boxes\"][0],one_box_data[\"boxes\"][1]]\n",
    "        x2y2 = [one_box_data[\"boxes\"][2],one_box_data[\"boxes\"][3]]\n",
    "\n",
    "        edit_detect_data_load[i][\"regions\"][d][\"boxes\"] = convert_to_corners(x1y1, x2y2)\n",
    "\n",
    "for one_img_data in edit_detect_data_load:\n",
    "\n",
    "    imgfile=image_path+'/'+str(one_img_data[\"id\"])+'.jpg'\n",
    "    img = cv2.imread(imgfile)\n",
    "    img = cv2.cvtColor(img, cv2.COLOR_BGR2RGB)\n",
    "    img = cv2.copyMakeBorder(img, 0, 0, 0, 300, cv2.BORDER_CONSTANT, value=[255,255,255])\n",
    "    for box_id, one_box in enumerate(one_img_data['regions']):\n",
    "       \n",
    "        if all(x == 0 for x in eval(one_box['Danger_item'])):\n",
    "            \n",
    "            color = (181,255,20)\n",
    "        else:\n",
    "            color = (255,0,0)\n",
    "        \n",
    "        risk_list = eval(one_box['Danger_item'])\n",
    "        \n",
    "        if all(x == 0 for x in risk_list) == True:\n",
    "            risk_txt =\"not_risk\"\n",
    "        else:\n",
    "            risk_index = [index for index, value in enumerate(risk_list) if value != 0]\n",
    "            risk_txt = str(risk_index)\n",
    "        cv2.rectangle(img, (int(one_box['boxes'][0]), int(one_box['boxes'][1])), (int(one_box['boxes'][2]), int(one_box['boxes'][3])), color , 2)\n",
    "        cv2.putText(img, str(box_id), (int(one_box['boxes'][0]), int(one_box['boxes'][1] - 2)), font, 1, (255, 255, 0), thickness=2, lineType=cv2.LINE_AA)\n",
    "        cv2.putText(img, \"id:\"+str(box_id), (1050,50 + box_id * 50), font, 0.5, color, thickness=1, lineType=cv2.LINE_AA)\n",
    "        cv2.putText(img, str(risk_txt), (1050, 70 + box_id * 50), font, 0.5, color, thickness=1, lineType=cv2.LINE_AA)\n",
    "    img = cv2.cvtColor(img, cv2.COLOR_BGR2RGB)\n",
    "    cv2.imwrite(\"./dataset/annotation_dis/{}.jpg\".format(one_img_data[\"id\"]),img)"
   ]
  },
  {
   "cell_type": "code",
   "execution_count": null,
   "metadata": {},
   "outputs": [],
   "source": []
  }
 ],
 "metadata": {
  "kernelspec": {
   "display_name": "my_study",
   "language": "python",
   "name": "python3"
  },
  "language_info": {
   "codemirror_mode": {
    "name": "ipython",
    "version": 3
   },
   "file_extension": ".py",
   "mimetype": "text/x-python",
   "name": "python",
   "nbconvert_exporter": "python",
   "pygments_lexer": "ipython3",
   "version": "3.9.16"
  },
  "orig_nbformat": 4,
  "vscode": {
   "interpreter": {
    "hash": "b5820871c137c7564f7070d1d3e5ae6c7e29d732b1aa0856a35d442c9732a27c"
   }
  }
 },
 "nbformat": 4,
 "nbformat_minor": 2
}
